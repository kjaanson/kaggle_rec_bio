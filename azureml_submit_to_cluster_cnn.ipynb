{
 "cells": [
  {
   "cell_type": "code",
   "execution_count": null,
   "metadata": {},
   "outputs": [],
   "source": [
    "from azureml.core import Experiment\n",
    "from azureml.core import Workspace, Run\n",
    "from azureml.core import Environment\n",
    "from azureml.core import Dataset, Datastore\n",
    "\n",
    "from azureml.core.compute import ComputeTarget, AmlCompute\n",
    "from azureml.core.compute_target import ComputeTargetException\n",
    "from azureml.core import ScriptRunConfig"
   ]
  },
  {
   "cell_type": "code",
   "execution_count": null,
   "metadata": {},
   "outputs": [],
   "source": [
    "from azureml.core.compute import ComputeInstance"
   ]
  },
  {
   "cell_type": "code",
   "execution_count": 3,
   "metadata": {},
   "outputs": [],
   "source": [
    "workspace = Workspace.from_config()"
   ]
  },
  {
   "cell_type": "code",
   "execution_count": 4,
   "metadata": {},
   "outputs": [],
   "source": [
    "instance = ComputeTarget(workspace=workspace, name='gpu-compute-low')"
   ]
  },
  {
   "cell_type": "code",
   "execution_count": 5,
   "metadata": {},
   "outputs": [],
   "source": [
    "dataset = Dataset.get_by_name(workspace, name='recursionbio')"
   ]
  },
  {
   "cell_type": "code",
   "execution_count": 6,
   "metadata": {},
   "outputs": [
    {
     "data": {
      "text/plain": [
       "{\n",
       "  \"source\": [\n",
       "    \"('codefilestore', '/Users/kjaanson/recursionpharma/input/recbio/**')\"\n",
       "  ],\n",
       "  \"definition\": [\n",
       "    \"GetDatastoreFiles\"\n",
       "  ],\n",
       "  \"registration\": {\n",
       "    \"id\": \"ee33756c-ab30-45ec-adf9-5b93629bbbd8\",\n",
       "    \"name\": \"recursionbio\",\n",
       "    \"version\": 2,\n",
       "    \"workspace\": \"Workspace.create(name='bioworks-azureml', subscription_id='73f2271c-beee-4233-b5dd-202b520bf0db', resource_group='mslearn-azureml')\"\n",
       "  }\n",
       "}"
      ]
     },
     "execution_count": 6,
     "metadata": {},
     "output_type": "execute_result"
    }
   ],
   "source": [
    "dataset"
   ]
  },
  {
   "cell_type": "code",
   "execution_count": 7,
   "metadata": {},
   "outputs": [],
   "source": [
    "env_list = Environment.list(workspace)"
   ]
  },
  {
   "cell_type": "code",
   "execution_count": 8,
   "metadata": {},
   "outputs": [
    {
     "data": {
      "text/plain": [
       "dict_keys(['AzureML-VowpalWabbit-8.8.0', 'AzureML-PyTorch-1.3-CPU', 'AzureML-Minimal', 'AzureML-Tutorial', 'AzureML-PyTorch-1.5-GPU', 'AzureML-TensorFlow-2.2-CPU', 'AzureML-PyTorch-1.6-CPU', 'AzureML-PyTorch-1.5-CPU', 'AzureML-TensorFlow-2.2-GPU', 'AzureML-PyTorch-1.6-GPU', 'AzureML-TensorFlow-2.3-CPU', 'AzureML-Triton', 'AzureML-TensorFlow-2.3-GPU', 'AzureML-DeepSpeed-0.3-GPU', 'AzureML-Pytorch1.7-Cuda11-OpenMpi4.1.0-py36', 'AzureML-Scikit-learn0.24-Cuda11-OpenMpi4.1.0-py36', 'AzureML-TensorFlow2.4-Cuda11-OpenMpi4.1.0-py36', 'AzureML-TensorFlow-1.15-Inference-CPU', 'AzureML-XGBoost-0.9-Inference-CPU', 'AzureML-PyTorch-1.6-Inference-CPU', 'AzureML-Minimal-Inference-CPU'])"
      ]
     },
     "execution_count": 8,
     "metadata": {},
     "output_type": "execute_result"
    }
   ],
   "source": [
    "env_list.keys()"
   ]
  },
  {
   "cell_type": "code",
   "execution_count": 9,
   "metadata": {},
   "outputs": [],
   "source": [
    "tf_env = Environment.get(workspace=workspace, name='AzureML-TensorFlow-2.3-GPU')\n",
    "tf_env = tf_env.clone(new_name='recbio-tf-2.3-efficientnet')"
   ]
  },
  {
   "cell_type": "code",
   "execution_count": 10,
   "metadata": {},
   "outputs": [],
   "source": [
    "tf_env.python.conda_dependencies.add_conda_package('scikit-learn')\n",
    "tf_env.python.conda_dependencies.add_conda_package('scipy')\n",
    "tf_env.python.conda_dependencies.add_conda_package('matplotlib')"
   ]
  },
  {
   "cell_type": "code",
   "execution_count": 11,
   "metadata": {},
   "outputs": [],
   "source": [
    "tf_env.python.conda_dependencies.add_pip_package('horovod==0.19.5')\n",
    "tf_env.python.conda_dependencies.add_pip_package('retry')"
   ]
  },
  {
   "cell_type": "code",
   "execution_count": 12,
   "metadata": {},
   "outputs": [
    {
     "data": {
      "text/plain": [
       "{\n",
       "    \"databricks\": {\n",
       "        \"eggLibraries\": [],\n",
       "        \"jarLibraries\": [],\n",
       "        \"mavenLibraries\": [],\n",
       "        \"pypiLibraries\": [],\n",
       "        \"rcranLibraries\": []\n",
       "    },\n",
       "    \"docker\": {\n",
       "        \"arguments\": [],\n",
       "        \"baseDockerfile\": null,\n",
       "        \"baseImage\": \"mcr.microsoft.com/azureml/openmpi3.1.2-cuda10.1-cudnn7-ubuntu18.04:20210405.v1\",\n",
       "        \"baseImageRegistry\": {\n",
       "            \"address\": null,\n",
       "            \"password\": null,\n",
       "            \"registryIdentity\": null,\n",
       "            \"username\": null\n",
       "        },\n",
       "        \"enabled\": false,\n",
       "        \"platform\": {\n",
       "            \"architecture\": \"amd64\",\n",
       "            \"os\": \"Linux\"\n",
       "        },\n",
       "        \"sharedVolumes\": true,\n",
       "        \"shmSize\": null\n",
       "    },\n",
       "    \"environmentVariables\": {\n",
       "        \"EXAMPLE_ENV_VAR\": \"EXAMPLE_VALUE\"\n",
       "    },\n",
       "    \"inferencingStackVersion\": null,\n",
       "    \"name\": \"recbio-tf-2.3-efficientnet\",\n",
       "    \"python\": {\n",
       "        \"baseCondaEnvironment\": null,\n",
       "        \"condaDependencies\": {\n",
       "            \"channels\": [\n",
       "                \"conda-forge\"\n",
       "            ],\n",
       "            \"dependencies\": [\n",
       "                \"python=3.6.2\",\n",
       "                \"pip=20.2.4\",\n",
       "                {\n",
       "                    \"pip\": [\n",
       "                        \"azureml-core==1.26.0\",\n",
       "                        \"azureml-defaults==1.26.0\",\n",
       "                        \"azureml-telemetry==1.26.0\",\n",
       "                        \"azureml-train-restclients-hyperdrive==1.26.0\",\n",
       "                        \"azureml-train-core==1.26.0\",\n",
       "                        \"tensorflow-gpu==2.3.0\",\n",
       "                        \"cmake==3.18.2\",\n",
       "                        \"horovod==0.19.5\",\n",
       "                        \"retry\"\n",
       "                    ]\n",
       "                },\n",
       "                \"scikit-learn\",\n",
       "                \"scipy\",\n",
       "                \"matplotlib\"\n",
       "            ],\n",
       "            \"name\": \"azureml_d92809b41ab897ef0ccef8479f68260c\"\n",
       "        },\n",
       "        \"condaDependenciesFile\": null,\n",
       "        \"interpreterPath\": \"python\",\n",
       "        \"userManagedDependencies\": false\n",
       "    },\n",
       "    \"r\": null,\n",
       "    \"spark\": {\n",
       "        \"packages\": [],\n",
       "        \"precachePackages\": true,\n",
       "        \"repositories\": []\n",
       "    },\n",
       "    \"version\": null\n",
       "}"
      ]
     },
     "execution_count": 12,
     "metadata": {},
     "output_type": "execute_result"
    }
   ],
   "source": [
    "tf_env"
   ]
  },
  {
   "cell_type": "code",
   "execution_count": 13,
   "metadata": {},
   "outputs": [],
   "source": [
    "train_scr = ScriptRunConfig(\n",
    "    source_directory='./scripts',\n",
    "    script='train_cnn.py',\n",
    "    arguments=['--data-path', dataset.as_mount(),\n",
    "               '--epochs', 10,\n",
    "               '--batch', 32],\n",
    "    compute_target=instance,\n",
    "    environment=tf_env\n",
    ")"
   ]
  },
  {
   "cell_type": "code",
   "execution_count": 14,
   "metadata": {},
   "outputs": [
    {
     "data": {
      "text/plain": [
       "<azureml.core.script_run_config.ScriptRunConfig at 0x7fa8fc3a7470>"
      ]
     },
     "execution_count": 14,
     "metadata": {},
     "output_type": "execute_result"
    }
   ],
   "source": [
    "train_scr"
   ]
  },
  {
   "cell_type": "code",
   "execution_count": 15,
   "metadata": {},
   "outputs": [],
   "source": [
    "run = Experiment(workspace=workspace, name='recbio-effnet-model').submit(train_scr)"
   ]
  },
  {
   "cell_type": "code",
   "execution_count": 16,
   "metadata": {},
   "outputs": [
    {
     "name": "stdout",
     "output_type": "stream",
     "text": [
      "RunId: recbio-effnet-model_1619355898_be089663\n",
      "Web View: https://ml.azure.com/experiments/recbio-effnet-model/runs/recbio-effnet-model_1619355898_be089663?wsid=/subscriptions/73f2271c-beee-4233-b5dd-202b520bf0db/resourcegroups/mslearn-azureml/workspaces/bioworks-azureml\n",
      "\n",
      "Streaming azureml-logs/65_job_prep-tvmps_8d3356cbc1241ec6d7c485396c9de4cf66674a75aefb56a54ddbdf3733489fa9_p.txt\n",
      "===============================================================================================================\n",
      "\n",
      "[2021-04-25T13:09:09.850337] Entering job preparation.\n",
      "[2021-04-25T13:09:10.546122] Starting job preparation.\n",
      "[2021-04-25T13:09:10.546157] Extracting the control code.\n",
      "[2021-04-25T13:09:10.564204] fetching and extracting the control code on master node.\n",
      "[2021-04-25T13:09:10.564234] Starting extract_project.\n",
      "[2021-04-25T13:09:10.564275] Starting to extract zip file.\n",
      "[2021-04-25T13:09:10.988946] Finished extracting zip file.\n",
      "[2021-04-25T13:09:11.111549] Using urllib.request Python 3.0 or later\n",
      "[2021-04-25T13:09:11.111615] Start fetching snapshots.\n",
      "[2021-04-25T13:09:11.111764] Start fetching snapshot.\n",
      "[2021-04-25T13:09:11.111789] Retrieving project from snapshot: 0f6805a3-78c9-4ac1-b845-7a859cd76b8a\n",
      "Starting the daemon thread to refresh tokens in background for process with pid = 47\n",
      "[2021-04-25T13:09:12.043804] Finished fetching snapshot.\n",
      "[2021-04-25T13:09:12.043834] Finished fetching snapshots.\n",
      "[2021-04-25T13:09:12.043865] Finished extract_project.\n",
      "[2021-04-25T13:09:12.057818] Finished fetching and extracting the control code.\n",
      "[2021-04-25T13:09:12.064493] Start run_history_prep.\n",
      "[2021-04-25T13:09:12.115277] Job preparation is complete.\n",
      "[2021-04-25T13:09:12.115422] Entering Data Context Managers in Sidecar\n",
      "[2021-04-25T13:09:12.116100] Running Sidecar prep cmd...\n",
      "[2021-04-25T13:09:12.174058] INFO azureml.sidecar.sidecar: Received task: enter_contexts. Running on Linux at /mnt/hostfs/mnt/batch/tasks/shared/LS_root/jobs/bioworks-azureml/azureml/recbio-effnet-model_1619355898_be089663/mounts/workspaceblobstore/azureml/recbio-effnet-model_1619355898_be089663\n",
      "[2021-04-25T13:09:12.174807] INFO azureml.sidecar.sidecar: Invoking \"enter_contexts\" task with Context Managers: {\"context_managers\": [\"Dataset:context_managers.Datasets\"]}\n",
      "Enter __enter__ of DatasetContextManager\n",
      "SDK version: azureml-core==1.25.0 azureml-dataprep==2.13.2. Session id: d17cd89a-e549-40da-bdfe-ab6c23f0d917. Run id: recbio-effnet-model_1619355898_be089663.\n",
      "Processing 'input__747b3435'.\n",
      "Processing dataset FileDataset\n",
      "{\n",
      "  \"source\": [\n",
      "    \"('codefilestore', '/Users/kjaanson/recursionpharma/input/recbio/**')\"\n",
      "  ],\n",
      "  \"definition\": [\n",
      "    \"GetDatastoreFiles\"\n",
      "  ],\n",
      "  \"registration\": {\n",
      "    \"id\": \"ee33756c-ab30-45ec-adf9-5b93629bbbd8\",\n",
      "    \"name\": \"recursionbio\",\n",
      "    \"version\": 2,\n",
      "    \"workspace\": \"Workspace.create(name='bioworks-azureml', subscription_id='73f2271c-beee-4233-b5dd-202b520bf0db', resource_group='mslearn-azureml')\"\n",
      "  }\n",
      "}\n",
      "Mounting input__747b3435 to /mnt/hostfs/mnt/batch/tasks/shared/LS_root/jobs/bioworks-azureml/azureml/recbio-effnet-model_1619355898_be089663/wd/tmp6iy444f0.\n",
      "Mounted input__747b3435 to /mnt/hostfs/mnt/batch/tasks/shared/LS_root/jobs/bioworks-azureml/azureml/recbio-effnet-model_1619355898_be089663/wd/tmp6iy444f0 as folder.\n",
      "Exit __enter__ of DatasetContextManager\n",
      "Set Dataset input__747b3435's target path to /mnt/batch/tasks/shared/LS_root/jobs/bioworks-azureml/azureml/recbio-effnet-model_1619355898_be089663/wd/tmp6iy444f0\n",
      "[2021-04-25T13:11:31.971404] INFO azureml.sidecar.task.enter_contexts: Entered Context Managers\n",
      "[2021-04-25T13:11:33.261097] Ran Sidecar prep cmd.\n",
      "[2021-04-25T13:11:33.261189] Running Context Managers in Sidecar complete.\n",
      "\n",
      "Streaming azureml-logs/70_driver_log.txt\n",
      "========================================\n",
      "\n",
      "bash: /azureml-envs/azureml_ce2dd2e92a6501ef9d85274b4f2ec5db/lib/libtinfo.so.5: no version information available (required by bash)\n",
      "2021/04/25 13:13:09 Starting App Insight Logger for task:  runTaskLet\n",
      "bash: /azureml-envs/azureml_ce2dd2e92a6501ef9d85274b4f2ec5db/lib/libtinfo.so.5: no version information available (required by bash)\n",
      "2021/04/25 13:13:09 Attempt 1 of http call to http://10.0.0.6:16384/sendlogstoartifacts/info\n",
      "2021/04/25 13:13:09 Attempt 1 of http call to http://10.0.0.6:16384/sendlogstoartifacts/status\n",
      "[2021-04-25T13:13:09.390077] Entering context manager injector.\n",
      "[context_manager_injector.py] Command line Options: Namespace(inject=['ProjectPythonPath:context_managers.ProjectPythonPath', 'Dataset:context_managers.Datasets', 'RunHistory:context_managers.RunHistory', 'TrackUserError:context_managers.TrackUserError'], invocation=['train_cnn.py', '--data-path', 'DatasetConsumptionConfig:input__747b3435', '--epochs', '10', '--batch', '32'])\n",
      "Script type = None\n",
      "[2021-04-25T13:13:10.682669] Entering Run History Context Manager.\n",
      "[2021-04-25T13:13:11.529754] Current directory: /mnt/batch/tasks/shared/LS_root/jobs/bioworks-azureml/azureml/recbio-effnet-model_1619355898_be089663/mounts/workspaceblobstore/azureml/recbio-effnet-model_1619355898_be089663\n",
      "[2021-04-25T13:13:11.529993] Preparing to call script [train_cnn.py] with arguments:['--data-path', '$input__747b3435', '--epochs', '10', '--batch', '32']\n",
      "[2021-04-25T13:13:11.530082] After variable expansion, calling script [train_cnn.py] with arguments:['--data-path', '/mnt/batch/tasks/shared/LS_root/jobs/bioworks-azureml/azureml/recbio-effnet-model_1619355898_be089663/wd/tmp6iy444f0', '--epochs', '10', '--batch', '32']\n",
      "\n",
      "2021-04-25 13:13:11.930050: I tensorflow/stream_executor/platform/default/dso_loader.cc:48] Successfully opened dynamic library libcudart.so.10.1\n",
      "2021/04/25 13:13:14 Not exporting to RunHistory as the exporter is either stopped or there is no data.\n",
      "Stopped: false\n",
      "OriginalData: 1\n",
      "FilteredData: 0.\n",
      "============================================\n",
      "Input dataset: /mnt/batch/tasks/shared/LS_root/jobs/bioworks-azureml/azureml/recbio-effnet-model_1619355898_be089663/wd/tmp6iy444f0\n",
      "2021-04-25 13:13:14.313440: I tensorflow/stream_executor/platform/default/dso_loader.cc:48] Successfully opened dynamic library libcuda.so.1\n",
      "2021-04-25 13:13:14.463072: I tensorflow/core/common_runtime/gpu/gpu_device.cc:1716] Found device 0 with properties: \n",
      "pciBusID: ef13:00:00.0 name: Tesla K80 computeCapability: 3.7\n",
      "coreClock: 0.8235GHz coreCount: 13 deviceMemorySize: 11.17GiB deviceMemoryBandwidth: 223.96GiB/s\n",
      "2021-04-25 13:13:14.463176: I tensorflow/stream_executor/platform/default/dso_loader.cc:48] Successfully opened dynamic library libcudart.so.10.1\n",
      "2021-04-25 13:13:14.465473: I tensorflow/stream_executor/platform/default/dso_loader.cc:48] Successfully opened dynamic library libcublas.so.10\n",
      "2021-04-25 13:13:14.467300: I tensorflow/stream_executor/platform/default/dso_loader.cc:48] Successfully opened dynamic library libcufft.so.10\n",
      "2021-04-25 13:13:14.467656: I tensorflow/stream_executor/platform/default/dso_loader.cc:48] Successfully opened dynamic library libcurand.so.10\n",
      "2021-04-25 13:13:14.469614: I tensorflow/stream_executor/platform/default/dso_loader.cc:48] Successfully opened dynamic library libcusolver.so.10\n",
      "2021-04-25 13:13:14.470774: I tensorflow/stream_executor/platform/default/dso_loader.cc:48] Successfully opened dynamic library libcusparse.so.10\n",
      "2021-04-25 13:13:14.475024: I tensorflow/stream_executor/platform/default/dso_loader.cc:48] Successfully opened dynamic library libcudnn.so.7\n",
      "2021-04-25 13:13:14.476548: I tensorflow/core/common_runtime/gpu/gpu_device.cc:1858] Adding visible gpu devices: 0\n",
      "Num GPUs Available:  1\n",
      "Shape of test_data: (19899, 4)\n",
      "Shape of train_data: (36517, 5)\n",
      "2021-04-25 13:13:17.129451: I tensorflow/core/platform/cpu_feature_guard.cc:142] This TensorFlow binary is optimized with oneAPI Deep Neural Network Library (oneDNN)to use the following CPU instructions in performance-critical operations:  AVX2 FMA\n",
      "To enable them in other operations, rebuild TensorFlow with the appropriate compiler flags.\n",
      "2021-04-25 13:13:17.137365: I tensorflow/core/platform/profile_utils/cpu_utils.cc:104] CPU Frequency: 2596990000 Hz\n",
      "2021-04-25 13:13:17.138200: I tensorflow/compiler/xla/service/service.cc:168] XLA service 0x5cdfe90 initialized for platform Host (this does not guarantee that XLA will be used). Devices:\n",
      "2021-04-25 13:13:17.138265: I tensorflow/compiler/xla/service/service.cc:176]   StreamExecutor device (0): Host, Default Version\n",
      "2021-04-25 13:13:17.455926: I tensorflow/compiler/xla/service/service.cc:168] XLA service 0x5ca56b0 initialized for platform CUDA (this does not guarantee that XLA will be used). Devices:\n",
      "2021-04-25 13:13:17.456024: I tensorflow/compiler/xla/service/service.cc:176]   StreamExecutor device (0): Tesla K80, Compute Capability 3.7\n",
      "2021-04-25 13:13:17.457054: I tensorflow/core/common_runtime/gpu/gpu_device.cc:1716] Found device 0 with properties: \n",
      "pciBusID: ef13:00:00.0 name: Tesla K80 computeCapability: 3.7\n",
      "coreClock: 0.8235GHz coreCount: 13 deviceMemorySize: 11.17GiB deviceMemoryBandwidth: 223.96GiB/s\n",
      "2021-04-25 13:13:17.457140: I tensorflow/stream_executor/platform/default/dso_loader.cc:48] Successfully opened dynamic library libcudart.so.10.1\n",
      "2021-04-25 13:13:17.457234: I tensorflow/stream_executor/platform/default/dso_loader.cc:48] Successfully opened dynamic library libcublas.so.10\n",
      "2021-04-25 13:13:17.457310: I tensorflow/stream_executor/platform/default/dso_loader.cc:48] Successfully opened dynamic library libcufft.so.10\n",
      "2021-04-25 13:13:17.457367: I tensorflow/stream_executor/platform/default/dso_loader.cc:48] Successfully opened dynamic library libcurand.so.10\n",
      "2021-04-25 13:13:17.457422: I tensorflow/stream_executor/platform/default/dso_loader.cc:48] Successfully opened dynamic library libcusolver.so.10\n",
      "2021-04-25 13:13:17.457477: I tensorflow/stream_executor/platform/default/dso_loader.cc:48] Successfully opened dynamic library libcusparse.so.10\n",
      "2021-04-25 13:13:17.457535: I tensorflow/stream_executor/platform/default/dso_loader.cc:48] Successfully opened dynamic library libcudnn.so.7\n",
      "2021-04-25 13:13:17.458961: I tensorflow/core/common_runtime/gpu/gpu_device.cc:1858] Adding visible gpu devices: 0\n",
      "2021-04-25 13:13:17.459043: I tensorflow/stream_executor/platform/default/dso_loader.cc:48] Successfully opened dynamic library libcudart.so.10.1\n",
      "2021-04-25 13:13:17.909495: I tensorflow/core/common_runtime/gpu/gpu_device.cc:1257] Device interconnect StreamExecutor with strength 1 edge matrix:\n",
      "2021-04-25 13:13:17.909601: I tensorflow/core/common_runtime/gpu/gpu_device.cc:1263]      0 \n",
      "2021-04-25 13:13:17.909653: I tensorflow/core/common_runtime/gpu/gpu_device.cc:1276] 0:   N \n",
      "2021-04-25 13:13:17.911360: I tensorflow/core/common_runtime/gpu/gpu_device.cc:1402] Created TensorFlow device (/job:localhost/replica:0/task:0/device:GPU:0 with 10625 MB memory) -> physical GPU (device: 0, name: Tesla K80, pci bus id: ef13:00:00.0, compute capability: 3.7)\n",
      "Downloading data from https://storage.googleapis.com/keras-applications/efficientnetb0_notop.h5\n",
      "\n",
      "    8192/16705208 [..............................] - ETA: \n",
      " 4202496/16705208 [======>.......................] - ETA: \n",
      "10493952/16705208 [=================>............] - ETA: \n",
      "16711680/16705208 [==============================] - 1s 0us/step\n",
      "Model: \"functional_5\"\n",
      "__________________________________________________________________________________________________\n",
      "Layer (type)                    Output Shape         Param #     Connected to                     \n",
      "==================================================================================================\n",
      "input_2 (InputLayer)            [(None, 224, 224, 3) 0                                            \n",
      "__________________________________________________________________________________________________\n",
      "input_3 (InputLayer)            [(None, 224, 224, 3) 0                                            \n",
      "__________________________________________________________________________________________________\n",
      "efficientnetb0 (Functional)     (None, 7, 7, 1280)   4049571     input_2[0][0]                    \n",
      "                                                                 input_3[0][0]                    \n",
      "__________________________________________________________________________________________________\n",
      "global_average_pooling2d (Globa (None, 1280)         0           efficientnetb0[0][0]             \n",
      "__________________________________________________________________________________________________\n",
      "global_average_pooling2d_1 (Glo (None, 1280)         0           efficientnetb0[1][0]             \n",
      "__________________________________________________________________________________________________\n",
      "concatenate (Concatenate)       (None, 2560)         0           global_average_pooling2d[0][0]   \n",
      "                                                                 global_average_pooling2d_1[0][0] \n",
      "__________________________________________________________________________________________________\n",
      "dropout (Dropout)               (None, 2560)         0           concatenate[0][0]                \n",
      "__________________________________________________________________________________________________\n",
      "dense (Dense)                   (None, 1108)         2837588     dropout[0][0]                    \n",
      "==================================================================================================\n",
      "Total params: 6,887,159\n",
      "Trainable params: 6,845,136\n",
      "Non-trainable params: 42,023\n",
      "__________________________________________________________________________________________________\n",
      "Training set size 35604\n",
      "Validation set size 913\n",
      "Training set batched size 1112\n",
      "Validation set batched size 28\n",
      "Epoch 1/10\n",
      "2021-04-25 13:15:18.373663: I tensorflow/stream_executor/platform/default/dso_loader.cc:48] Successfully opened dynamic library libcublas.so.10\n",
      "\n",
      "Streaming azureml-logs/75_job_post-tvmps_8d3356cbc1241ec6d7c485396c9de4cf66674a75aefb56a54ddbdf3733489fa9_p.txt\n",
      "===============================================================================================================\n",
      "\n",
      "[2021-04-25T13:16:25.730408] Entering job release\n",
      "[2021-04-25T13:16:27.082844] Starting job release\n",
      "[2021-04-25T13:16:27.083369] Logging experiment finalizing status in history service.\n",
      "Starting the daemon thread to refresh tokens in background for process with pid = 1707[2021-04-25T13:16:27.083639] job release stage : upload_datastore starting...\n",
      "\n",
      "[2021-04-25T13:16:27.083974] job release stage : start importing azureml.history._tracking in run_history_release.\n",
      "[2021-04-25T13:16:27.084658] job release stage : copy_batchai_cached_logs starting...[2021-04-25T13:16:27.084698] job release stage : execute_job_release starting...\n",
      "\n",
      "[2021-04-25T13:16:27.086702] job release stage : copy_batchai_cached_logs completed...\n",
      "[2021-04-25T13:16:27.144954] Entering context manager injector.\n",
      "[2021-04-25T13:16:27.192524] job release stage : upload_datastore completed...\n",
      "[2021-04-25T13:16:27.215647] job release stage : execute_job_release completed...\n",
      "[2021-04-25T13:16:27.568027] job release stage : send_run_telemetry starting...\n",
      "[2021-04-25T13:16:27.707776] get vm size and vm region successfully.\n",
      "[2021-04-25T13:16:27.721130] get compute meta data successfully.\n",
      "[2021-04-25T13:16:27.939305] post artifact meta request successfully.\n",
      "[2021-04-25T13:16:27.973315] upload compute record artifact successfully.\n",
      "[2021-04-25T13:16:27.973400] job release stage : send_run_telemetry completed...\n",
      "[2021-04-25T13:16:27.973739] Running in AzureML-Sidecar, starting to exit user context managers...\n",
      "[2021-04-25T13:16:27.973976] Running Sidecar release cmd...\n",
      "[2021-04-25T13:16:27.984284] INFO azureml.sidecar.sidecar: Received task: exit_contexts. Running on Linux at /mnt/hostfs/mnt/batch/tasks/shared/LS_root/jobs/bioworks-azureml/azureml/recbio-effnet-model_1619355898_be089663/mounts/workspaceblobstore/azureml/recbio-effnet-model_1619355898_be089663\n",
      "Enter __exit__ of DatasetContextManager\n",
      "Unmounting /mnt/hostfs/mnt/batch/tasks/shared/LS_root/jobs/bioworks-azureml/azureml/recbio-effnet-model_1619355898_be089663/wd/tmp6iy444f0.\n",
      "fuse: failed to unmount /mnt/hostfs/mnt/batch/tasks/shared/LS_root/jobs/bioworks-azureml/azureml/recbio-effnet-model_1619355898_be089663/wd/tmp6iy444f0: No such file or directory\n",
      "Finishing unmounting /mnt/hostfs/mnt/batch/tasks/shared/LS_root/jobs/bioworks-azureml/azureml/recbio-effnet-model_1619355898_be089663/wd/tmp6iy444f0.\n",
      "Exit __exit__ of DatasetContextManager\n",
      "[2021-04-25T13:16:28.106366] Removing absolute paths from host...\n",
      "[2021-04-25T13:16:28.114190] INFO azureml.sidecar.task.exit_contexts: Exited Context Managers\n",
      "[2021-04-25T13:16:28.820406] Ran Sidecar release cmd.\n",
      "[2021-04-25T13:16:28.820491] Job release is complete\n",
      "\n",
      "Execution Summary\n",
      "=================\n",
      "RunId: recbio-effnet-model_1619355898_be089663\n",
      "Web View: https://ml.azure.com/experiments/recbio-effnet-model/runs/recbio-effnet-model_1619355898_be089663?wsid=/subscriptions/73f2271c-beee-4233-b5dd-202b520bf0db/resourcegroups/mslearn-azureml/workspaces/bioworks-azureml\n"
     ]
    },
    {
     "ename": "ActivityFailedException",
     "evalue": "ActivityFailedException:\n\tMessage: Activity Failed:\n{\n    \"error\": {\n        \"code\": \"UserError\",\n        \"message\": \"AzureMLCompute job failed.\\nJobFailed: Submitted script failed with a non-zero exit code; see the driver log file for details.\\n\\tReason: Job failed with non-zero exit Code\",\n        \"messageFormat\": \"{Message}\",\n        \"messageParameters\": {\n            \"Message\": \"AzureMLCompute job failed.\\nJobFailed: Submitted script failed with a non-zero exit code; see the driver log file for details.\\n\\tReason: Job failed with non-zero exit Code\"\n        },\n        \"details\": [],\n        \"innerError\": {\n            \"code\": \"UserTrainingScriptFailed\"\n        }\n    },\n    \"correlation\": {\n        \"operation\": null,\n        \"request\": \"8cd9f819ea77b44d\"\n    },\n    \"environment\": \"northeurope\",\n    \"location\": \"northeurope\",\n    \"time\": \"2021-04-25T13:16:42.367123Z\",\n    \"componentName\": \"execution-worker\"\n}\n\tInnerException None\n\tErrorResponse \n{\n    \"error\": {\n        \"message\": \"Activity Failed:\\n{\\n    \\\"error\\\": {\\n        \\\"code\\\": \\\"UserError\\\",\\n        \\\"message\\\": \\\"AzureMLCompute job failed.\\\\nJobFailed: Submitted script failed with a non-zero exit code; see the driver log file for details.\\\\n\\\\tReason: Job failed with non-zero exit Code\\\",\\n        \\\"messageFormat\\\": \\\"{Message}\\\",\\n        \\\"messageParameters\\\": {\\n            \\\"Message\\\": \\\"AzureMLCompute job failed.\\\\nJobFailed: Submitted script failed with a non-zero exit code; see the driver log file for details.\\\\n\\\\tReason: Job failed with non-zero exit Code\\\"\\n        },\\n        \\\"details\\\": [],\\n        \\\"innerError\\\": {\\n            \\\"code\\\": \\\"UserTrainingScriptFailed\\\"\\n        }\\n    },\\n    \\\"correlation\\\": {\\n        \\\"operation\\\": null,\\n        \\\"request\\\": \\\"8cd9f819ea77b44d\\\"\\n    },\\n    \\\"environment\\\": \\\"northeurope\\\",\\n    \\\"location\\\": \\\"northeurope\\\",\\n    \\\"time\\\": \\\"2021-04-25T13:16:42.367123Z\\\",\\n    \\\"componentName\\\": \\\"execution-worker\\\"\\n}\"\n    }\n}",
     "output_type": "error",
     "traceback": [
      "\u001b[0;31m---------------------------------------------------------------------------\u001b[0m",
      "\u001b[0;31mActivityFailedException\u001b[0m                   Traceback (most recent call last)",
      "\u001b[0;32m<ipython-input-16-c525ff7b8c5b>\u001b[0m in \u001b[0;36m<module>\u001b[0;34m\u001b[0m\n\u001b[0;32m----> 1\u001b[0;31m \u001b[0mrun\u001b[0m\u001b[0;34m.\u001b[0m\u001b[0mwait_for_completion\u001b[0m\u001b[0;34m(\u001b[0m\u001b[0mshow_output\u001b[0m\u001b[0;34m=\u001b[0m\u001b[0;32mTrue\u001b[0m\u001b[0;34m)\u001b[0m\u001b[0;34m\u001b[0m\u001b[0;34m\u001b[0m\u001b[0m\n\u001b[0m",
      "\u001b[0;32m/anaconda/envs/azureml_py36/lib/python3.6/site-packages/azureml/core/run.py\u001b[0m in \u001b[0;36mwait_for_completion\u001b[0;34m(self, show_output, wait_post_processing, raise_on_error)\u001b[0m\n\u001b[1;32m    786\u001b[0m                     \u001b[0mfile_handle\u001b[0m\u001b[0;34m=\u001b[0m\u001b[0msys\u001b[0m\u001b[0;34m.\u001b[0m\u001b[0mstdout\u001b[0m\u001b[0;34m,\u001b[0m\u001b[0;34m\u001b[0m\u001b[0;34m\u001b[0m\u001b[0m\n\u001b[1;32m    787\u001b[0m                     \u001b[0mwait_post_processing\u001b[0m\u001b[0;34m=\u001b[0m\u001b[0mwait_post_processing\u001b[0m\u001b[0;34m,\u001b[0m\u001b[0;34m\u001b[0m\u001b[0;34m\u001b[0m\u001b[0m\n\u001b[0;32m--> 788\u001b[0;31m                     raise_on_error=raise_on_error)\n\u001b[0m\u001b[1;32m    789\u001b[0m                 \u001b[0;32mreturn\u001b[0m \u001b[0mself\u001b[0m\u001b[0;34m.\u001b[0m\u001b[0mget_details\u001b[0m\u001b[0;34m(\u001b[0m\u001b[0;34m)\u001b[0m\u001b[0;34m\u001b[0m\u001b[0;34m\u001b[0m\u001b[0m\n\u001b[1;32m    790\u001b[0m             \u001b[0;32mexcept\u001b[0m \u001b[0mKeyboardInterrupt\u001b[0m\u001b[0;34m:\u001b[0m\u001b[0;34m\u001b[0m\u001b[0;34m\u001b[0m\u001b[0m\n",
      "\u001b[0;32m/anaconda/envs/azureml_py36/lib/python3.6/site-packages/azureml/core/run.py\u001b[0m in \u001b[0;36m_stream_run_output\u001b[0;34m(self, file_handle, wait_post_processing, raise_on_error)\u001b[0m\n\u001b[1;32m   1027\u001b[0m                 \u001b[0mfile_handle\u001b[0m\u001b[0;34m.\u001b[0m\u001b[0mwrite\u001b[0m\u001b[0;34m(\u001b[0m\u001b[0;34m\"\\n\"\u001b[0m\u001b[0;34m)\u001b[0m\u001b[0;34m\u001b[0m\u001b[0;34m\u001b[0m\u001b[0m\n\u001b[1;32m   1028\u001b[0m             \u001b[0;32melse\u001b[0m\u001b[0;34m:\u001b[0m\u001b[0;34m\u001b[0m\u001b[0;34m\u001b[0m\u001b[0m\n\u001b[0;32m-> 1029\u001b[0;31m                 \u001b[0;32mraise\u001b[0m \u001b[0mActivityFailedException\u001b[0m\u001b[0;34m(\u001b[0m\u001b[0merror_details\u001b[0m\u001b[0;34m=\u001b[0m\u001b[0mjson\u001b[0m\u001b[0;34m.\u001b[0m\u001b[0mdumps\u001b[0m\u001b[0;34m(\u001b[0m\u001b[0merror\u001b[0m\u001b[0;34m,\u001b[0m \u001b[0mindent\u001b[0m\u001b[0;34m=\u001b[0m\u001b[0;36m4\u001b[0m\u001b[0;34m)\u001b[0m\u001b[0;34m)\u001b[0m\u001b[0;34m\u001b[0m\u001b[0;34m\u001b[0m\u001b[0m\n\u001b[0m\u001b[1;32m   1030\u001b[0m \u001b[0;34m\u001b[0m\u001b[0m\n\u001b[1;32m   1031\u001b[0m         \u001b[0mfile_handle\u001b[0m\u001b[0;34m.\u001b[0m\u001b[0mwrite\u001b[0m\u001b[0;34m(\u001b[0m\u001b[0;34m\"\\n\"\u001b[0m\u001b[0;34m)\u001b[0m\u001b[0;34m\u001b[0m\u001b[0;34m\u001b[0m\u001b[0m\n",
      "\u001b[0;31mActivityFailedException\u001b[0m: ActivityFailedException:\n\tMessage: Activity Failed:\n{\n    \"error\": {\n        \"code\": \"UserError\",\n        \"message\": \"AzureMLCompute job failed.\\nJobFailed: Submitted script failed with a non-zero exit code; see the driver log file for details.\\n\\tReason: Job failed with non-zero exit Code\",\n        \"messageFormat\": \"{Message}\",\n        \"messageParameters\": {\n            \"Message\": \"AzureMLCompute job failed.\\nJobFailed: Submitted script failed with a non-zero exit code; see the driver log file for details.\\n\\tReason: Job failed with non-zero exit Code\"\n        },\n        \"details\": [],\n        \"innerError\": {\n            \"code\": \"UserTrainingScriptFailed\"\n        }\n    },\n    \"correlation\": {\n        \"operation\": null,\n        \"request\": \"8cd9f819ea77b44d\"\n    },\n    \"environment\": \"northeurope\",\n    \"location\": \"northeurope\",\n    \"time\": \"2021-04-25T13:16:42.367123Z\",\n    \"componentName\": \"execution-worker\"\n}\n\tInnerException None\n\tErrorResponse \n{\n    \"error\": {\n        \"message\": \"Activity Failed:\\n{\\n    \\\"error\\\": {\\n        \\\"code\\\": \\\"UserError\\\",\\n        \\\"message\\\": \\\"AzureMLCompute job failed.\\\\nJobFailed: Submitted script failed with a non-zero exit code; see the driver log file for details.\\\\n\\\\tReason: Job failed with non-zero exit Code\\\",\\n        \\\"messageFormat\\\": \\\"{Message}\\\",\\n        \\\"messageParameters\\\": {\\n            \\\"Message\\\": \\\"AzureMLCompute job failed.\\\\nJobFailed: Submitted script failed with a non-zero exit code; see the driver log file for details.\\\\n\\\\tReason: Job failed with non-zero exit Code\\\"\\n        },\\n        \\\"details\\\": [],\\n        \\\"innerError\\\": {\\n            \\\"code\\\": \\\"UserTrainingScriptFailed\\\"\\n        }\\n    },\\n    \\\"correlation\\\": {\\n        \\\"operation\\\": null,\\n        \\\"request\\\": \\\"8cd9f819ea77b44d\\\"\\n    },\\n    \\\"environment\\\": \\\"northeurope\\\",\\n    \\\"location\\\": \\\"northeurope\\\",\\n    \\\"time\\\": \\\"2021-04-25T13:16:42.367123Z\\\",\\n    \\\"componentName\\\": \\\"execution-worker\\\"\\n}\"\n    }\n}"
     ]
    }
   ],
   "source": [
    "run.wait_for_completion(show_output=True)"
   ]
  },
  {
   "cell_type": "code",
   "execution_count": null,
   "metadata": {},
   "outputs": [],
   "source": []
  },
  {
   "cell_type": "code",
   "execution_count": null,
   "metadata": {},
   "outputs": [],
   "source": []
  }
 ],
 "metadata": {
  "kernelspec": {
   "display_name": "Python 3",
   "language": "python",
   "name": "python3"
  },
  "language_info": {
   "codemirror_mode": {
    "name": "ipython",
    "version": 3
   },
   "file_extension": ".py",
   "mimetype": "text/x-python",
   "name": "python",
   "nbconvert_exporter": "python",
   "pygments_lexer": "ipython3",
   "version": "3.6.9"
  }
 },
 "nbformat": 4,
 "nbformat_minor": 4
}
