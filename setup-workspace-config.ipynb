{
 "cells": [
  {
   "cell_type": "code",
   "execution_count": 7,
   "id": "following-cable",
   "metadata": {},
   "outputs": [],
   "source": [
    "from azureml.core import Workspace, Dataset, Environment\n",
    "\n",
    "subscription_id = '73f2271c-beee-4233-b5dd-202b520bf0db'\n",
    "resource_group = 'mslearn-azureml'\n",
    "workspace_name = 'bioworks-azureml'\n",
    "\n",
    "workspace = Workspace(subscription_id, resource_group, workspace_name)"
   ]
  },
  {
   "cell_type": "code",
   "execution_count": 13,
   "id": "western-corporation",
   "metadata": {},
   "outputs": [],
   "source": [
    "workspace.write_config()"
   ]
  },
  {
   "cell_type": "code",
   "execution_count": null,
   "id": "burning-album",
   "metadata": {},
   "outputs": [],
   "source": []
  }
 ],
 "metadata": {
  "kernelspec": {
   "display_name": "Python 3",
   "language": "python",
   "name": "python3"
  },
  "language_info": {
   "codemirror_mode": {
    "name": "ipython",
    "version": 3
   },
   "file_extension": ".py",
   "mimetype": "text/x-python",
   "name": "python",
   "nbconvert_exporter": "python",
   "pygments_lexer": "ipython3",
   "version": "3.7.9"
  }
 },
 "nbformat": 4,
 "nbformat_minor": 5
}
