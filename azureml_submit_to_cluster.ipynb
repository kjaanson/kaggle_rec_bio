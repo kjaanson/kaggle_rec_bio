{
 "cells": [
  {
   "cell_type": "code",
   "execution_count": 1,
   "metadata": {},
   "outputs": [],
   "source": [
    "from azureml.core import Experiment\n",
    "from azureml.core import Workspace, Run\n",
    "from azureml.core import Environment\n",
    "from azureml.core import Dataset, Datastore\n",
    "\n",
    "from azureml.core.compute import ComputeTarget, AmlCompute\n",
    "from azureml.core.compute_target import ComputeTargetException\n",
    "from azureml.core import ScriptRunConfig"
   ]
  },
  {
   "cell_type": "code",
   "execution_count": 2,
   "metadata": {},
   "outputs": [],
   "source": [
    "from azureml.core.compute import ComputeInstance"
   ]
  },
  {
   "cell_type": "code",
   "execution_count": 3,
   "metadata": {},
   "outputs": [],
   "source": [
    "workspace = Workspace.from_config()"
   ]
  },
  {
   "cell_type": "code",
   "execution_count": 4,
   "metadata": {},
   "outputs": [],
   "source": [
    "instance = ComputeTarget(workspace=workspace, name='cpu-cluster')"
   ]
  },
  {
   "cell_type": "code",
   "execution_count": 5,
   "metadata": {},
   "outputs": [],
   "source": [
    "dataset_v5 = Dataset.get_by_name(workspace, name='recursionbio_zip', version=5)"
   ]
  },
  {
   "cell_type": "code",
   "execution_count": 6,
   "metadata": {},
   "outputs": [
    {
     "data": {
      "text/plain": [
       "{\n",
       "  \"source\": [\n",
       "    \"('codefilestore', '/Users/kjaanson/recursionpharma/input/recursion-cellular-image-classification.zip')\"\n",
       "  ],\n",
       "  \"definition\": [\n",
       "    \"GetDatastoreFiles\"\n",
       "  ],\n",
       "  \"registration\": {\n",
       "    \"id\": \"1e762845-e940-4179-b7b9-56313a8bb060\",\n",
       "    \"name\": \"recursionbio_zip\",\n",
       "    \"version\": 5,\n",
       "    \"workspace\": \"Workspace.create(name='bioworks-azureml', subscription_id='73f2271c-beee-4233-b5dd-202b520bf0db', resource_group='mslearn-azureml')\"\n",
       "  }\n",
       "}"
      ]
     },
     "execution_count": 6,
     "metadata": {},
     "output_type": "execute_result"
    }
   ],
   "source": [
    "dataset"
   ]
  },
  {
   "cell_type": "code",
   "execution_count": 7,
   "metadata": {},
   "outputs": [],
   "source": [
    "env_list = Environment.list(workspace)"
   ]
  },
  {
   "cell_type": "code",
   "execution_count": 8,
   "metadata": {},
   "outputs": [
    {
     "data": {
      "text/plain": [
       "dict_keys(['AzureML-PyTorch-1.3-GPU', 'AzureML-TensorFlow-2.0-CPU', 'AzureML-Tutorial', 'AzureML-PyTorch-1.3-CPU', 'AzureML-TensorFlow-2.0-GPU', 'AzureML-Chainer-5.1.0-GPU', 'AzureML-Minimal', 'AzureML-PyTorch-1.2-CPU', 'AzureML-TensorFlow-1.12-CPU', 'AzureML-TensorFlow-1.13-CPU', 'AzureML-PyTorch-1.1-CPU', 'AzureML-TensorFlow-1.10-CPU', 'AzureML-PyTorch-1.0-GPU', 'AzureML-TensorFlow-1.12-GPU', 'AzureML-TensorFlow-1.13-GPU', 'AzureML-Chainer-5.1.0-CPU', 'AzureML-PyTorch-1.0-CPU', 'AzureML-Scikit-learn-0.20.3', 'AzureML-PyTorch-1.2-GPU', 'AzureML-PyTorch-1.1-GPU', 'AzureML-TensorFlow-1.10-GPU', 'AzureML-PySpark-MmlSpark-0.15', 'AzureML-AutoML', 'AzureML-PyTorch-1.4-GPU', 'AzureML-PyTorch-1.4-CPU', 'AzureML-VowpalWabbit-8.8.0', 'AzureML-Hyperdrive-ForecastDNN', 'AzureML-AutoML-GPU', 'AzureML-AutoML-DNN', 'AzureML-PyTorch-1.5-CPU', 'AzureML-PyTorch-1.5-GPU', 'AzureML-Sidecar', 'AzureML-Designer-Score', 'AzureML-TensorFlow-2.1-GPU', 'AzureML-TensorFlow-2.1-CPU', 'AzureML-AutoML-DNN-Vision-GPU', 'AzureML-TensorFlow-2.2-GPU', 'AzureML-TensorFlow-2.2-CPU', 'AzureML-PyTorch-1.6-CPU', 'AzureML-PyTorch-1.6-GPU', 'AzureML-Triton', 'AzureML-TensorFlow-2.3-CPU', 'AzureML-TensorFlow-2.3-GPU', 'AzureML-DeepSpeed-0.3-GPU'])"
      ]
     },
     "execution_count": 8,
     "metadata": {},
     "output_type": "execute_result"
    }
   ],
   "source": [
    "env_list.keys()"
   ]
  },
  {
   "cell_type": "code",
   "execution_count": 9,
   "metadata": {},
   "outputs": [],
   "source": [
    "tf_env = Environment.get(workspace=workspace, name='AzureML-TensorFlow-2.3-GPU')\n",
    "tf_env = tf_env.clone(new_name='recbio-tf-2.3-efficientnet')"
   ]
  },
  {
   "cell_type": "code",
   "execution_count": 10,
   "metadata": {},
   "outputs": [],
   "source": [
    "tf_env.python.conda_dependencies.add_conda_package('scikit-learn')\n",
    "tf_env.python.conda_dependencies.add_conda_package('scipy')\n",
    "tf_env.python.conda_dependencies.add_conda_package('matplotlib')"
   ]
  },
  {
   "cell_type": "code",
   "execution_count": 11,
   "metadata": {},
   "outputs": [],
   "source": [
    "tf_env.python.conda_dependencies.add_pip_package('horovod==0.19.5')\n",
    "tf_env.python.conda_dependencies.add_pip_package('retry')"
   ]
  },
  {
   "cell_type": "code",
   "execution_count": 12,
   "metadata": {},
   "outputs": [
    {
     "data": {
      "text/plain": [
       "{\n",
       "    \"databricks\": {\n",
       "        \"eggLibraries\": [],\n",
       "        \"jarLibraries\": [],\n",
       "        \"mavenLibraries\": [],\n",
       "        \"pypiLibraries\": [],\n",
       "        \"rcranLibraries\": []\n",
       "    },\n",
       "    \"docker\": {\n",
       "        \"arguments\": [],\n",
       "        \"baseDockerfile\": null,\n",
       "        \"baseImage\": \"mcr.microsoft.com/azureml/openmpi3.1.2-cuda10.1-cudnn7-ubuntu18.04:20201112.v1\",\n",
       "        \"baseImageRegistry\": {\n",
       "            \"address\": null,\n",
       "            \"password\": null,\n",
       "            \"registryIdentity\": null,\n",
       "            \"username\": null\n",
       "        },\n",
       "        \"enabled\": false,\n",
       "        \"platform\": {\n",
       "            \"architecture\": \"amd64\",\n",
       "            \"os\": \"Linux\"\n",
       "        },\n",
       "        \"sharedVolumes\": true,\n",
       "        \"shmSize\": null\n",
       "    },\n",
       "    \"environmentVariables\": {\n",
       "        \"EXAMPLE_ENV_VAR\": \"EXAMPLE_VALUE\"\n",
       "    },\n",
       "    \"inferencingStackVersion\": null,\n",
       "    \"name\": \"recbio-tf-2.3-efficientnet\",\n",
       "    \"python\": {\n",
       "        \"baseCondaEnvironment\": null,\n",
       "        \"condaDependencies\": {\n",
       "            \"channels\": [\n",
       "                \"conda-forge\"\n",
       "            ],\n",
       "            \"dependencies\": [\n",
       "                \"python=3.6.2\",\n",
       "                {\n",
       "                    \"pip\": [\n",
       "                        \"azureml-core==1.18.0.post1\",\n",
       "                        \"azureml-defaults==1.18.0\",\n",
       "                        \"azureml-telemetry==1.18.0\",\n",
       "                        \"azureml-train-restclients-hyperdrive==1.18.0\",\n",
       "                        \"azureml-train-core==1.18.0\",\n",
       "                        \"tensorflow-gpu==2.3.0\",\n",
       "                        \"cmake==3.18.2\",\n",
       "                        \"horovod==0.19.5\",\n",
       "                        \"retry\"\n",
       "                    ]\n",
       "                },\n",
       "                \"scikit-learn\",\n",
       "                \"scipy\",\n",
       "                \"matplotlib\"\n",
       "            ],\n",
       "            \"name\": \"azureml_60ad88840fdbe40e31e03ddbbc134dec\"\n",
       "        },\n",
       "        \"condaDependenciesFile\": null,\n",
       "        \"interpreterPath\": \"python\",\n",
       "        \"userManagedDependencies\": false\n",
       "    },\n",
       "    \"r\": null,\n",
       "    \"spark\": {\n",
       "        \"packages\": [],\n",
       "        \"precachePackages\": true,\n",
       "        \"repositories\": []\n",
       "    },\n",
       "    \"version\": null\n",
       "}"
      ]
     },
     "execution_count": 12,
     "metadata": {},
     "output_type": "execute_result"
    }
   ],
   "source": [
    "tf_env"
   ]
  },
  {
   "cell_type": "code",
   "execution_count": 13,
   "metadata": {},
   "outputs": [],
   "source": [
    "train_scr = ScriptRunConfig(\n",
    "    source_directory='./scripts',\n",
    "    script='train.py',\n",
    "    arguments=['--data-file', dataset.as_mount(), '--epochs', 10],\n",
    "    compute_target=instance,\n",
    "    environment=tf_env\n",
    ")"
   ]
  },
  {
   "cell_type": "code",
   "execution_count": 14,
   "metadata": {},
   "outputs": [
    {
     "data": {
      "text/plain": [
       "<azureml.core.script_run_config.ScriptRunConfig at 0x7f6f592cd518>"
      ]
     },
     "execution_count": 14,
     "metadata": {},
     "output_type": "execute_result"
    }
   ],
   "source": [
    "train_scr"
   ]
  },
  {
   "cell_type": "code",
   "execution_count": 15,
   "metadata": {},
   "outputs": [],
   "source": [
    "run = Experiment(workspace=workspace, name='RecBio-TF-Test').submit(train_scr)"
   ]
  },
  {
   "cell_type": "code",
   "execution_count": null,
   "metadata": {},
   "outputs": [
    {
     "name": "stdout",
     "output_type": "stream",
     "text": [
      "RunId: RecBio-TF-Test_1614115578_6dac4ba8\n",
      "Web View: https://ml.azure.com/experiments/RecBio-TF-Test/runs/RecBio-TF-Test_1614115578_6dac4ba8?wsid=/subscriptions/73f2271c-beee-4233-b5dd-202b520bf0db/resourcegroups/mslearn-azureml/workspaces/bioworks-azureml\n",
      "\n",
      "Streaming azureml-logs/55_azureml-execution-tvmps_1a4409a4ed247c900b8993ebed21616875cb73eefd967bb9e346409ff6e71c9c_d.txt\n",
      "========================================================================================================================\n",
      "\n",
      "2021-02-23T21:31:02Z Starting output-watcher...\n",
      "2021-02-23T21:31:02Z IsDedicatedCompute == True, won't poll for Low Pri Preemption\n",
      "2021-02-23T21:31:02Z Executing 'Copy ACR Details file' on 10.0.0.5\n",
      "2021-02-23T21:31:03Z Copy ACR Details file succeeded on 10.0.0.5. Output: \n",
      ">>>   \n",
      ">>>   \n",
      "Login Succeeded\n",
      "\n",
      "Streaming azureml-logs/65_job_prep-tvmps_1a4409a4ed247c900b8993ebed21616875cb73eefd967bb9e346409ff6e71c9c_d.txt\n",
      "===============================================================================================================\n",
      "\n",
      "[2021-02-23T21:31:24.087017] Entering job preparation.\n",
      "[2021-02-23T21:31:24.760205] Starting job preparation.\n",
      "[2021-02-23T21:31:24.760251] Extracting the control code.\n",
      "[2021-02-23T21:31:24.778222] fetching and extracting the control code on master node.\n",
      "[2021-02-23T21:31:24.778273] Starting extract_project.\n",
      "[2021-02-23T21:31:24.778321] Starting to extract zip file.\n",
      "[2021-02-23T21:31:25.567603] Finished extracting zip file.\n",
      "[2021-02-23T21:31:25.698768] Using urllib.request Python 3.0 or later\n",
      "[2021-02-23T21:31:25.698819] Start fetching snapshots.\n",
      "[2021-02-23T21:31:25.698856] Start fetching snapshot.\n",
      "[2021-02-23T21:31:25.698874] Retrieving project from snapshot: c4006977-1e50-47e9-91b0-2d9a4fe3ffaa\n",
      "Starting the daemon thread to refresh tokens in background for process with pid = 41\n",
      "[2021-02-23T21:31:25.971161] Finished fetching snapshot.\n",
      "[2021-02-23T21:31:25.971198] Finished fetching snapshots.\n",
      "[2021-02-23T21:31:25.971207] Finished extract_project.\n",
      "[2021-02-23T21:31:25.981162] Finished fetching and extracting the control code.\n",
      "[2021-02-23T21:31:25.986864] Start run_history_prep.\n",
      "[2021-02-23T21:31:26.179345] Job preparation is complete.\n",
      "[2021-02-23T21:31:26.179388] Entering Data Context Managers in Sidecar\n",
      "[2021-02-23T21:31:26.180026] Running Sidecar prep cmd...\n",
      "[2021-02-23T21:31:26.235565] INFO azureml.sidecar.sidecar: Received task: enter_contexts. Running on Linux at /mnt/hostfs/mnt/batch/tasks/shared/LS_root/jobs/bioworks-azureml/azureml/recbio-tf-test_1614115578_6dac4ba8/mounts/workspaceblobstore/azureml/RecBio-TF-Test_1614115578_6dac4ba8\n",
      "[2021-02-23T21:31:26.236295] INFO azureml.sidecar.sidecar: Invoking \"enter_contexts\" task with Context Managers: {\"context_managers\": [\"Dataset:context_managers.Datasets\"]}\n",
      "Enter __enter__ of DatasetContextManager\n",
      "SDK version: azureml-core==1.21.0.post2 azureml-dataprep==2.9.1. Session id: 17a08895-f375-4ddd-b939-eb257f707f0b. Run id: RecBio-TF-Test_1614115578_6dac4ba8.\n",
      "Processing 'input__08b9df49'.\n",
      "Processing dataset FileDataset\n",
      "{\n",
      "  \"source\": [\n",
      "    \"('codefilestore', '/Users/kjaanson/recursionpharma/input/recursion-cellular-image-classification.zip')\"\n",
      "  ],\n",
      "  \"definition\": [\n",
      "    \"GetDatastoreFiles\"\n",
      "  ],\n",
      "  \"registration\": {\n",
      "    \"id\": \"1e762845-e940-4179-b7b9-56313a8bb060\",\n",
      "    \"name\": \"recursionbio_zip\",\n",
      "    \"version\": 5,\n",
      "    \"workspace\": \"Workspace.create(name='bioworks-azureml', subscription_id='73f2271c-beee-4233-b5dd-202b520bf0db', resource_group='mslearn-azureml')\"\n",
      "  }\n",
      "}\n",
      "Mounting input__08b9df49 to /mnt/hostfs/mnt/batch/tasks/shared/LS_root/jobs/bioworks-azureml/azureml/recbio-tf-test_1614115578_6dac4ba8/wd/tmpwej367hv.\n",
      "Mounted input__08b9df49 to /mnt/hostfs/mnt/batch/tasks/shared/LS_root/jobs/bioworks-azureml/azureml/recbio-tf-test_1614115578_6dac4ba8/wd/tmpwej367hv as single file.\n",
      "Exit __enter__ of DatasetContextManager\n",
      "Set Dataset input__08b9df49's target path to /mnt/batch/tasks/shared/LS_root/jobs/bioworks-azureml/azureml/recbio-tf-test_1614115578_6dac4ba8/wd/tmpwej367hv/recursion-cellular-image-classification.zip\n",
      "Starting the daemon thread to refresh tokens in background for process with pid = 1\n",
      "[2021-02-23T21:31:34.770955] INFO azureml.sidecar.task.enter_contexts: Entered Context Managers\n",
      "[2021-02-23T21:31:36.673842] Ran Sidecar prep cmd.\n",
      "[2021-02-23T21:31:36.673887] Running Context Managers in Sidecar complete.\n"
     ]
    }
   ],
   "source": [
    "run.wait_for_completion(show_output=True)"
   ]
  },
  {
   "cell_type": "code",
   "execution_count": null,
   "metadata": {},
   "outputs": [],
   "source": []
  },
  {
   "cell_type": "code",
   "execution_count": null,
   "metadata": {},
   "outputs": [],
   "source": []
  }
 ],
 "metadata": {
  "kernelspec": {
   "display_name": "Python 3",
   "language": "python",
   "name": "python3"
  },
  "language_info": {
   "codemirror_mode": {
    "name": "ipython",
    "version": 3
   },
   "file_extension": ".py",
   "mimetype": "text/x-python",
   "name": "python",
   "nbconvert_exporter": "python",
   "pygments_lexer": "ipython3",
   "version": "3.8.6-final"
  }
 },
 "nbformat": 4,
 "nbformat_minor": 4
}